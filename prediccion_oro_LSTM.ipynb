{
 "cells": [
  {
   "cell_type": "markdown",
   "id": "2a117292",
   "metadata": {},
   "source": [
    "# Caso de Estudio: Predicción del Precio del Oro con Redes LSTM"
   ]
  },
  {
   "cell_type": "markdown",
   "id": "320f6244",
   "metadata": {},
   "source": [
    "## 1. Descubrimiento del Caso de Negocio\n",
    "Contexto del proyecto: Commodity Analytics busca predecir el precio del oro (XAU/USD) utilizando datos históricos y variables macroeconómicas para optimizar decisiones de inversión."
   ]
  },
  {
   "cell_type": "code",
   "execution_count": null,
   "id": "4eb09799",
   "metadata": {},
   "outputs": [],
   "source": [
    "# Instalación y carga de librerías necesarias\n",
    "!pip install yfinance tensorflow keras sklearn matplotlib seaborn shap keract pandas numpy"
   ]
  },
  {
   "cell_type": "markdown",
   "id": "a7fffaac",
   "metadata": {},
   "source": [
    "## 2. Procesamiento de Datos"
   ]
  },
  {
   "cell_type": "code",
   "execution_count": 1,
   "id": "d9ca44f4",
   "metadata": {},
   "outputs": [
    {
     "name": "stdout",
     "output_type": "stream",
     "text": [
      "YF.download() has changed argument auto_adjust default to True\n"
     ]
    },
    {
     "name": "stderr",
     "output_type": "stream",
     "text": [
      "[*********************100%***********************]  1 of 1 completed\n",
      "[*********************100%***********************]  1 of 1 completed\n",
      "[*********************100%***********************]  1 of 1 completed\n",
      "[*********************100%***********************]  1 of 1 completed\n"
     ]
    },
    {
     "data": {
      "text/html": [
       "<div>\n",
       "<style scoped>\n",
       "    .dataframe tbody tr th:only-of-type {\n",
       "        vertical-align: middle;\n",
       "    }\n",
       "\n",
       "    .dataframe tbody tr th {\n",
       "        vertical-align: top;\n",
       "    }\n",
       "\n",
       "    .dataframe thead th {\n",
       "        text-align: right;\n",
       "    }\n",
       "</style>\n",
       "<table border=\"1\" class=\"dataframe\">\n",
       "  <thead>\n",
       "    <tr style=\"text-align: right;\">\n",
       "      <th></th>\n",
       "      <th>Oro</th>\n",
       "      <th>DXY</th>\n",
       "      <th>Bonos</th>\n",
       "      <th>TIP</th>\n",
       "      <th>Ratio_Oro_DXY</th>\n",
       "      <th>Inflacion_implicita</th>\n",
       "      <th>Tasa_real</th>\n",
       "      <th>SMA200</th>\n",
       "      <th>Bollinger_up</th>\n",
       "      <th>Bollinger_down</th>\n",
       "    </tr>\n",
       "    <tr>\n",
       "      <th>Date</th>\n",
       "      <th></th>\n",
       "      <th></th>\n",
       "      <th></th>\n",
       "      <th></th>\n",
       "      <th></th>\n",
       "      <th></th>\n",
       "      <th></th>\n",
       "      <th></th>\n",
       "      <th></th>\n",
       "      <th></th>\n",
       "    </tr>\n",
       "  </thead>\n",
       "  <tbody>\n",
       "    <tr>\n",
       "      <th>2010-10-19</th>\n",
       "      <td>1335.099976</td>\n",
       "      <td>78.180000</td>\n",
       "      <td>2.475</td>\n",
       "      <td>78.09021</td>\n",
       "      <td>17.077257</td>\n",
       "      <td>0.000537</td>\n",
       "      <td>2.474463</td>\n",
       "      <td>1189.230999</td>\n",
       "      <td>1388.590284</td>\n",
       "      <td>1265.079699</td>\n",
       "    </tr>\n",
       "    <tr>\n",
       "      <th>2010-10-20</th>\n",
       "      <td>1343.300049</td>\n",
       "      <td>77.169998</td>\n",
       "      <td>2.470</td>\n",
       "      <td>78.06929</td>\n",
       "      <td>17.407025</td>\n",
       "      <td>-0.000268</td>\n",
       "      <td>2.470268</td>\n",
       "      <td>1190.358999</td>\n",
       "      <td>1386.895931</td>\n",
       "      <td>1273.864054</td>\n",
       "    </tr>\n",
       "    <tr>\n",
       "      <th>2010-10-21</th>\n",
       "      <td>1324.699951</td>\n",
       "      <td>77.419998</td>\n",
       "      <td>2.531</td>\n",
       "      <td>78.06929</td>\n",
       "      <td>17.110566</td>\n",
       "      <td>0.000000</td>\n",
       "      <td>2.531000</td>\n",
       "      <td>1191.391999</td>\n",
       "      <td>1385.475709</td>\n",
       "      <td>1278.734277</td>\n",
       "    </tr>\n",
       "    <tr>\n",
       "      <th>2010-10-22</th>\n",
       "      <td>1324.400024</td>\n",
       "      <td>77.470001</td>\n",
       "      <td>2.563</td>\n",
       "      <td>78.09021</td>\n",
       "      <td>17.095650</td>\n",
       "      <td>0.000268</td>\n",
       "      <td>2.562732</td>\n",
       "      <td>1192.334499</td>\n",
       "      <td>1384.112541</td>\n",
       "      <td>1283.107442</td>\n",
       "    </tr>\n",
       "    <tr>\n",
       "      <th>2010-10-25</th>\n",
       "      <td>1338.300049</td>\n",
       "      <td>77.099998</td>\n",
       "      <td>2.554</td>\n",
       "      <td>78.32769</td>\n",
       "      <td>17.357978</td>\n",
       "      <td>0.003041</td>\n",
       "      <td>2.550959</td>\n",
       "      <td>1193.360499</td>\n",
       "      <td>1383.037908</td>\n",
       "      <td>1288.412080</td>\n",
       "    </tr>\n",
       "  </tbody>\n",
       "</table>\n",
       "</div>"
      ],
      "text/plain": [
       "                    Oro        DXY  Bonos       TIP  Ratio_Oro_DXY  \\\n",
       "Date                                                                 \n",
       "2010-10-19  1335.099976  78.180000  2.475  78.09021      17.077257   \n",
       "2010-10-20  1343.300049  77.169998  2.470  78.06929      17.407025   \n",
       "2010-10-21  1324.699951  77.419998  2.531  78.06929      17.110566   \n",
       "2010-10-22  1324.400024  77.470001  2.563  78.09021      17.095650   \n",
       "2010-10-25  1338.300049  77.099998  2.554  78.32769      17.357978   \n",
       "\n",
       "            Inflacion_implicita  Tasa_real       SMA200  Bollinger_up  \\\n",
       "Date                                                                    \n",
       "2010-10-19             0.000537   2.474463  1189.230999   1388.590284   \n",
       "2010-10-20            -0.000268   2.470268  1190.358999   1386.895931   \n",
       "2010-10-21             0.000000   2.531000  1191.391999   1385.475709   \n",
       "2010-10-22             0.000268   2.562732  1192.334499   1384.112541   \n",
       "2010-10-25             0.003041   2.550959  1193.360499   1383.037908   \n",
       "\n",
       "            Bollinger_down  \n",
       "Date                        \n",
       "2010-10-19     1265.079699  \n",
       "2010-10-20     1273.864054  \n",
       "2010-10-21     1278.734277  \n",
       "2010-10-22     1283.107442  \n",
       "2010-10-25     1288.412080  "
      ]
     },
     "execution_count": 1,
     "metadata": {},
     "output_type": "execute_result"
    }
   ],
   "source": [
    "\n",
    "import yfinance as yf\n",
    "import pandas as pd\n",
    "import numpy as np\n",
    "\n",
    "# Descargar datos históricos desde Yahoo Finance\n",
    "oro = yf.download(\"GC=F\", start=\"2010-01-01\")\n",
    "dxy = yf.download(\"DX-Y.NYB\", start=\"2010-01-01\")\n",
    "bonos = yf.download(\"^TNX\", start=\"2010-01-01\")\n",
    "tip = yf.download(\"TIP\", start=\"2010-01-01\")\n",
    "\n",
    "# Unión de datasets\n",
    "df = pd.concat([oro['Close'], dxy['Close'], bonos['Close'], tip['Close']], axis=1).dropna()\n",
    "df.columns = ['Oro', 'DXY', 'Bonos', 'TIP']\n",
    "\n",
    "# Características derivadas\n",
    "df['Ratio_Oro_DXY'] = df['Oro'] / df['DXY']\n",
    "df['Inflacion_implicita'] = df['TIP'].pct_change()\n",
    "df['Tasa_real'] = df['Bonos'] - df['Inflacion_implicita']\n",
    "\n",
    "# Variables técnicas\n",
    "df['SMA200'] = df['Oro'].rolling(window=200).mean()\n",
    "df['Bollinger_up'] = df['Oro'].rolling(window=20).mean() + 2*df['Oro'].rolling(window=20).std()\n",
    "df['Bollinger_down'] = df['Oro'].rolling(window=20).mean() - 2*df['Oro'].rolling(window=20).std()\n",
    "\n",
    "df = df.dropna()\n",
    "df.head()\n"
   ]
  },
  {
   "cell_type": "markdown",
   "id": "f6969819",
   "metadata": {},
   "source": [
    "## 3. Preparación de secuencias para LSTM"
   ]
  },
  {
   "cell_type": "code",
   "execution_count": 3,
   "id": "b7db5071",
   "metadata": {},
   "outputs": [
    {
     "name": "stdout",
     "output_type": "stream",
     "text": [
      "(3551, 90, 10) (3551, 5)\n"
     ]
    }
   ],
   "source": [
    "from sklearn.preprocessing import RobustScaler\n",
    "from tensorflow.keras.preprocessing.sequence import TimeseriesGenerator\n",
    "import numpy as np\n",
    "\n",
    "# — your data —\n",
    "scaler = RobustScaler()\n",
    "data_scaled = scaler.fit_transform(df)\n",
    "\n",
    "look_back = 90\n",
    "horizon   = 5\n",
    "\n",
    "# you can still build X/Y manually…\n",
    "X, Y = [], []\n",
    "for i in range(len(data_scaled) - look_back - horizon):\n",
    "    X.append(data_scaled[i : i + look_back])\n",
    "    Y.append(data_scaled[i + look_back : i + look_back + horizon, 0])\n",
    "\n",
    "X, Y = np.array(X), np.array(Y)\n",
    "print(X.shape, Y.shape)\n",
    "\n",
    "# …or use TimeseriesGenerator to do exactly that:\n",
    "gen = TimeseriesGenerator(\n",
    "    data_scaled,                  # full multivariate array\n",
    "    data_scaled[:, 0],            # target series (gold price)\n",
    "    length=look_back,\n",
    "    sampling_rate=1,\n",
    "    stride=1,\n",
    "    start_index=0,\n",
    "    end_index=None,\n",
    "    shuffle=False,\n",
    "    reverse=False,\n",
    "    batch_size=32\n",
    ")\n",
    "# then iterate gen to get (X_batch, Y_batch)\n"
   ]
  },
  {
   "cell_type": "markdown",
   "id": "abe8071e",
   "metadata": {},
   "source": [
    "## 4. División de los Datos en Train/Test"
   ]
  },
  {
   "cell_type": "code",
   "execution_count": 4,
   "id": "ed25961a",
   "metadata": {},
   "outputs": [],
   "source": [
    "\n",
    "split_train = int(len(X) * 0.7)\n",
    "split_val = int(len(X) * 0.85)\n",
    "\n",
    "X_train, Y_train = X[:split_train], Y[:split_train]\n",
    "X_val, Y_val = X[split_train:split_val], Y[split_train:split_val]\n",
    "X_test, Y_test = X[split_val:], Y[split_val:]\n"
   ]
  },
  {
   "cell_type": "markdown",
   "id": "4f976638",
   "metadata": {},
   "source": [
    "## 5. Modelo LSTM"
   ]
  },
  {
   "cell_type": "code",
   "execution_count": 5,
   "id": "ab05192c",
   "metadata": {},
   "outputs": [
    {
     "name": "stderr",
     "output_type": "stream",
     "text": [
      "c:\\Users\\Alumno_AI\\carlos\\practicas\\recurrentes\\.venv\\Lib\\site-packages\\keras\\src\\layers\\rnn\\rnn.py:200: UserWarning: Do not pass an `input_shape`/`input_dim` argument to a layer. When using Sequential models, prefer using an `Input(shape)` object as the first layer in the model instead.\n",
      "  super().__init__(**kwargs)\n"
     ]
    },
    {
     "data": {
      "text/html": [
       "<pre style=\"white-space:pre;overflow-x:auto;line-height:normal;font-family:Menlo,'DejaVu Sans Mono',consolas,'Courier New',monospace\"><span style=\"font-weight: bold\">Model: \"sequential\"</span>\n",
       "</pre>\n"
      ],
      "text/plain": [
       "\u001b[1mModel: \"sequential\"\u001b[0m\n"
      ]
     },
     "metadata": {},
     "output_type": "display_data"
    },
    {
     "data": {
      "text/html": [
       "<pre style=\"white-space:pre;overflow-x:auto;line-height:normal;font-family:Menlo,'DejaVu Sans Mono',consolas,'Courier New',monospace\">┏━━━━━━━━━━━━━━━━━━━━━━━━━━━━━━━━━┳━━━━━━━━━━━━━━━━━━━━━━━━┳━━━━━━━━━━━━━━━┓\n",
       "┃<span style=\"font-weight: bold\"> Layer (type)                    </span>┃<span style=\"font-weight: bold\"> Output Shape           </span>┃<span style=\"font-weight: bold\">       Param # </span>┃\n",
       "┡━━━━━━━━━━━━━━━━━━━━━━━━━━━━━━━━━╇━━━━━━━━━━━━━━━━━━━━━━━━╇━━━━━━━━━━━━━━━┩\n",
       "│ lstm (<span style=\"color: #0087ff; text-decoration-color: #0087ff\">LSTM</span>)                     │ (<span style=\"color: #00d7ff; text-decoration-color: #00d7ff\">None</span>, <span style=\"color: #00af00; text-decoration-color: #00af00\">90</span>, <span style=\"color: #00af00; text-decoration-color: #00af00\">192</span>)        │       <span style=\"color: #00af00; text-decoration-color: #00af00\">155,904</span> │\n",
       "├─────────────────────────────────┼────────────────────────┼───────────────┤\n",
       "│ dropout (<span style=\"color: #0087ff; text-decoration-color: #0087ff\">Dropout</span>)               │ (<span style=\"color: #00d7ff; text-decoration-color: #00d7ff\">None</span>, <span style=\"color: #00af00; text-decoration-color: #00af00\">90</span>, <span style=\"color: #00af00; text-decoration-color: #00af00\">192</span>)        │             <span style=\"color: #00af00; text-decoration-color: #00af00\">0</span> │\n",
       "├─────────────────────────────────┼────────────────────────┼───────────────┤\n",
       "│ lstm_1 (<span style=\"color: #0087ff; text-decoration-color: #0087ff\">LSTM</span>)                   │ (<span style=\"color: #00d7ff; text-decoration-color: #00d7ff\">None</span>, <span style=\"color: #00af00; text-decoration-color: #00af00\">96</span>)             │       <span style=\"color: #00af00; text-decoration-color: #00af00\">110,976</span> │\n",
       "├─────────────────────────────────┼────────────────────────┼───────────────┤\n",
       "│ dense (<span style=\"color: #0087ff; text-decoration-color: #0087ff\">Dense</span>)                   │ (<span style=\"color: #00d7ff; text-decoration-color: #00d7ff\">None</span>, <span style=\"color: #00af00; text-decoration-color: #00af00\">5</span>)              │           <span style=\"color: #00af00; text-decoration-color: #00af00\">485</span> │\n",
       "└─────────────────────────────────┴────────────────────────┴───────────────┘\n",
       "</pre>\n"
      ],
      "text/plain": [
       "┏━━━━━━━━━━━━━━━━━━━━━━━━━━━━━━━━━┳━━━━━━━━━━━━━━━━━━━━━━━━┳━━━━━━━━━━━━━━━┓\n",
       "┃\u001b[1m \u001b[0m\u001b[1mLayer (type)                   \u001b[0m\u001b[1m \u001b[0m┃\u001b[1m \u001b[0m\u001b[1mOutput Shape          \u001b[0m\u001b[1m \u001b[0m┃\u001b[1m \u001b[0m\u001b[1m      Param #\u001b[0m\u001b[1m \u001b[0m┃\n",
       "┡━━━━━━━━━━━━━━━━━━━━━━━━━━━━━━━━━╇━━━━━━━━━━━━━━━━━━━━━━━━╇━━━━━━━━━━━━━━━┩\n",
       "│ lstm (\u001b[38;5;33mLSTM\u001b[0m)                     │ (\u001b[38;5;45mNone\u001b[0m, \u001b[38;5;34m90\u001b[0m, \u001b[38;5;34m192\u001b[0m)        │       \u001b[38;5;34m155,904\u001b[0m │\n",
       "├─────────────────────────────────┼────────────────────────┼───────────────┤\n",
       "│ dropout (\u001b[38;5;33mDropout\u001b[0m)               │ (\u001b[38;5;45mNone\u001b[0m, \u001b[38;5;34m90\u001b[0m, \u001b[38;5;34m192\u001b[0m)        │             \u001b[38;5;34m0\u001b[0m │\n",
       "├─────────────────────────────────┼────────────────────────┼───────────────┤\n",
       "│ lstm_1 (\u001b[38;5;33mLSTM\u001b[0m)                   │ (\u001b[38;5;45mNone\u001b[0m, \u001b[38;5;34m96\u001b[0m)             │       \u001b[38;5;34m110,976\u001b[0m │\n",
       "├─────────────────────────────────┼────────────────────────┼───────────────┤\n",
       "│ dense (\u001b[38;5;33mDense\u001b[0m)                   │ (\u001b[38;5;45mNone\u001b[0m, \u001b[38;5;34m5\u001b[0m)              │           \u001b[38;5;34m485\u001b[0m │\n",
       "└─────────────────────────────────┴────────────────────────┴───────────────┘\n"
      ]
     },
     "metadata": {},
     "output_type": "display_data"
    },
    {
     "data": {
      "text/html": [
       "<pre style=\"white-space:pre;overflow-x:auto;line-height:normal;font-family:Menlo,'DejaVu Sans Mono',consolas,'Courier New',monospace\"><span style=\"font-weight: bold\"> Total params: </span><span style=\"color: #00af00; text-decoration-color: #00af00\">267,365</span> (1.02 MB)\n",
       "</pre>\n"
      ],
      "text/plain": [
       "\u001b[1m Total params: \u001b[0m\u001b[38;5;34m267,365\u001b[0m (1.02 MB)\n"
      ]
     },
     "metadata": {},
     "output_type": "display_data"
    },
    {
     "data": {
      "text/html": [
       "<pre style=\"white-space:pre;overflow-x:auto;line-height:normal;font-family:Menlo,'DejaVu Sans Mono',consolas,'Courier New',monospace\"><span style=\"font-weight: bold\"> Trainable params: </span><span style=\"color: #00af00; text-decoration-color: #00af00\">267,365</span> (1.02 MB)\n",
       "</pre>\n"
      ],
      "text/plain": [
       "\u001b[1m Trainable params: \u001b[0m\u001b[38;5;34m267,365\u001b[0m (1.02 MB)\n"
      ]
     },
     "metadata": {},
     "output_type": "display_data"
    },
    {
     "data": {
      "text/html": [
       "<pre style=\"white-space:pre;overflow-x:auto;line-height:normal;font-family:Menlo,'DejaVu Sans Mono',consolas,'Courier New',monospace\"><span style=\"font-weight: bold\"> Non-trainable params: </span><span style=\"color: #00af00; text-decoration-color: #00af00\">0</span> (0.00 B)\n",
       "</pre>\n"
      ],
      "text/plain": [
       "\u001b[1m Non-trainable params: \u001b[0m\u001b[38;5;34m0\u001b[0m (0.00 B)\n"
      ]
     },
     "metadata": {},
     "output_type": "display_data"
    }
   ],
   "source": [
    "\n",
    "from keras.models import Sequential\n",
    "from keras.layers import LSTM, Dense, Dropout\n",
    "\n",
    "model = Sequential([\n",
    "    LSTM(192, return_sequences=True, input_shape=(look_back, X.shape[2])),\n",
    "    Dropout(0.35),\n",
    "    LSTM(96),\n",
    "    Dense(horizon)\n",
    "])\n",
    "\n",
    "model.compile(optimizer='adam', loss='mse', metrics=['mae'])\n",
    "model.summary()\n"
   ]
  },
  {
   "cell_type": "markdown",
   "id": "d6ecb38d",
   "metadata": {},
   "source": [
    "## 6. Entrenamiento del Modelo"
   ]
  },
  {
   "cell_type": "code",
   "execution_count": 6,
   "id": "ca676e99",
   "metadata": {},
   "outputs": [
    {
     "name": "stdout",
     "output_type": "stream",
     "text": [
      "Epoch 1/50\n",
      "\u001b[1m78/78\u001b[0m \u001b[32m━━━━━━━━━━━━━━━━━━━━\u001b[0m\u001b[37m\u001b[0m \u001b[1m11s\u001b[0m 101ms/step - loss: 0.0307 - mae: 0.1179 - val_loss: 0.0303 - val_mae: 0.1378\n",
      "Epoch 2/50\n",
      "\u001b[1m78/78\u001b[0m \u001b[32m━━━━━━━━━━━━━━━━━━━━\u001b[0m\u001b[37m\u001b[0m \u001b[1m7s\u001b[0m 93ms/step - loss: 0.0050 - mae: 0.0534 - val_loss: 0.0258 - val_mae: 0.1324\n",
      "Epoch 3/50\n",
      "\u001b[1m78/78\u001b[0m \u001b[32m━━━━━━━━━━━━━━━━━━━━\u001b[0m\u001b[37m\u001b[0m \u001b[1m7s\u001b[0m 88ms/step - loss: 0.0047 - mae: 0.0518 - val_loss: 0.0235 - val_mae: 0.1211\n",
      "Epoch 4/50\n",
      "\u001b[1m78/78\u001b[0m \u001b[32m━━━━━━━━━━━━━━━━━━━━\u001b[0m\u001b[37m\u001b[0m \u001b[1m7s\u001b[0m 87ms/step - loss: 0.0040 - mae: 0.0470 - val_loss: 0.0195 - val_mae: 0.1075\n",
      "Epoch 5/50\n",
      "\u001b[1m78/78\u001b[0m \u001b[32m━━━━━━━━━━━━━━━━━━━━\u001b[0m\u001b[37m\u001b[0m \u001b[1m7s\u001b[0m 93ms/step - loss: 0.0041 - mae: 0.0473 - val_loss: 0.0143 - val_mae: 0.0943\n",
      "Epoch 6/50\n",
      "\u001b[1m78/78\u001b[0m \u001b[32m━━━━━━━━━━━━━━━━━━━━\u001b[0m\u001b[37m\u001b[0m \u001b[1m7s\u001b[0m 88ms/step - loss: 0.0037 - mae: 0.0450 - val_loss: 0.0254 - val_mae: 0.1258\n",
      "Epoch 7/50\n",
      "\u001b[1m78/78\u001b[0m \u001b[32m━━━━━━━━━━━━━━━━━━━━\u001b[0m\u001b[37m\u001b[0m \u001b[1m7s\u001b[0m 85ms/step - loss: 0.0036 - mae: 0.0444 - val_loss: 0.0169 - val_mae: 0.1031\n",
      "Epoch 8/50\n",
      "\u001b[1m78/78\u001b[0m \u001b[32m━━━━━━━━━━━━━━━━━━━━\u001b[0m\u001b[37m\u001b[0m \u001b[1m7s\u001b[0m 85ms/step - loss: 0.0032 - mae: 0.0426 - val_loss: 0.0182 - val_mae: 0.1028\n",
      "Epoch 9/50\n",
      "\u001b[1m78/78\u001b[0m \u001b[32m━━━━━━━━━━━━━━━━━━━━\u001b[0m\u001b[37m\u001b[0m \u001b[1m7s\u001b[0m 87ms/step - loss: 0.0031 - mae: 0.0414 - val_loss: 0.0122 - val_mae: 0.0824\n",
      "Epoch 10/50\n",
      "\u001b[1m78/78\u001b[0m \u001b[32m━━━━━━━━━━━━━━━━━━━━\u001b[0m\u001b[37m\u001b[0m \u001b[1m7s\u001b[0m 87ms/step - loss: 0.0030 - mae: 0.0409 - val_loss: 0.0095 - val_mae: 0.0757\n",
      "Epoch 11/50\n",
      "\u001b[1m78/78\u001b[0m \u001b[32m━━━━━━━━━━━━━━━━━━━━\u001b[0m\u001b[37m\u001b[0m \u001b[1m7s\u001b[0m 93ms/step - loss: 0.0034 - mae: 0.0436 - val_loss: 0.0071 - val_mae: 0.0662\n",
      "Epoch 12/50\n",
      "\u001b[1m78/78\u001b[0m \u001b[32m━━━━━━━━━━━━━━━━━━━━\u001b[0m\u001b[37m\u001b[0m \u001b[1m7s\u001b[0m 90ms/step - loss: 0.0026 - mae: 0.0382 - val_loss: 0.0076 - val_mae: 0.0669\n",
      "Epoch 13/50\n",
      "\u001b[1m78/78\u001b[0m \u001b[32m━━━━━━━━━━━━━━━━━━━━\u001b[0m\u001b[37m\u001b[0m \u001b[1m7s\u001b[0m 94ms/step - loss: 0.0031 - mae: 0.0415 - val_loss: 0.0072 - val_mae: 0.0663\n",
      "Epoch 14/50\n",
      "\u001b[1m78/78\u001b[0m \u001b[32m━━━━━━━━━━━━━━━━━━━━\u001b[0m\u001b[37m\u001b[0m \u001b[1m7s\u001b[0m 88ms/step - loss: 0.0030 - mae: 0.0409 - val_loss: 0.0073 - val_mae: 0.0673\n",
      "Epoch 15/50\n",
      "\u001b[1m78/78\u001b[0m \u001b[32m━━━━━━━━━━━━━━━━━━━━\u001b[0m\u001b[37m\u001b[0m \u001b[1m7s\u001b[0m 87ms/step - loss: 0.0026 - mae: 0.0381 - val_loss: 0.0076 - val_mae: 0.0683\n",
      "Epoch 16/50\n",
      "\u001b[1m78/78\u001b[0m \u001b[32m━━━━━━━━━━━━━━━━━━━━\u001b[0m\u001b[37m\u001b[0m \u001b[1m7s\u001b[0m 95ms/step - loss: 0.0028 - mae: 0.0388 - val_loss: 0.0083 - val_mae: 0.0713\n",
      "Epoch 17/50\n",
      "\u001b[1m78/78\u001b[0m \u001b[32m━━━━━━━━━━━━━━━━━━━━\u001b[0m\u001b[37m\u001b[0m \u001b[1m7s\u001b[0m 96ms/step - loss: 0.0027 - mae: 0.0402 - val_loss: 0.0085 - val_mae: 0.0728\n",
      "Epoch 18/50\n",
      "\u001b[1m78/78\u001b[0m \u001b[32m━━━━━━━━━━━━━━━━━━━━\u001b[0m\u001b[37m\u001b[0m \u001b[1m7s\u001b[0m 90ms/step - loss: 0.0027 - mae: 0.0394 - val_loss: 0.0091 - val_mae: 0.0751\n",
      "Epoch 19/50\n",
      "\u001b[1m78/78\u001b[0m \u001b[32m━━━━━━━━━━━━━━━━━━━━\u001b[0m\u001b[37m\u001b[0m \u001b[1m7s\u001b[0m 90ms/step - loss: 0.0027 - mae: 0.0391 - val_loss: 0.0086 - val_mae: 0.0728\n",
      "Epoch 20/50\n",
      "\u001b[1m78/78\u001b[0m \u001b[32m━━━━━━━━━━━━━━━━━━━━\u001b[0m\u001b[37m\u001b[0m \u001b[1m7s\u001b[0m 87ms/step - loss: 0.0025 - mae: 0.0384 - val_loss: 0.0111 - val_mae: 0.0816\n",
      "Epoch 21/50\n",
      "\u001b[1m78/78\u001b[0m \u001b[32m━━━━━━━━━━━━━━━━━━━━\u001b[0m\u001b[37m\u001b[0m \u001b[1m7s\u001b[0m 88ms/step - loss: 0.0025 - mae: 0.0375 - val_loss: 0.0158 - val_mae: 0.0988\n",
      "Epoch 22/50\n",
      "\u001b[1m78/78\u001b[0m \u001b[32m━━━━━━━━━━━━━━━━━━━━\u001b[0m\u001b[37m\u001b[0m \u001b[1m7s\u001b[0m 87ms/step - loss: 0.0024 - mae: 0.0358 - val_loss: 0.0111 - val_mae: 0.0827\n",
      "Epoch 23/50\n",
      "\u001b[1m78/78\u001b[0m \u001b[32m━━━━━━━━━━━━━━━━━━━━\u001b[0m\u001b[37m\u001b[0m \u001b[1m7s\u001b[0m 86ms/step - loss: 0.0024 - mae: 0.0373 - val_loss: 0.0151 - val_mae: 0.0976\n",
      "Epoch 24/50\n",
      "\u001b[1m78/78\u001b[0m \u001b[32m━━━━━━━━━━━━━━━━━━━━\u001b[0m\u001b[37m\u001b[0m \u001b[1m7s\u001b[0m 90ms/step - loss: 0.0024 - mae: 0.0369 - val_loss: 0.0131 - val_mae: 0.0892\n",
      "Epoch 25/50\n",
      "\u001b[1m78/78\u001b[0m \u001b[32m━━━━━━━━━━━━━━━━━━━━\u001b[0m\u001b[37m\u001b[0m \u001b[1m7s\u001b[0m 91ms/step - loss: 0.0023 - mae: 0.0362 - val_loss: 0.0147 - val_mae: 0.0927\n",
      "Epoch 26/50\n",
      "\u001b[1m78/78\u001b[0m \u001b[32m━━━━━━━━━━━━━━━━━━━━\u001b[0m\u001b[37m\u001b[0m \u001b[1m7s\u001b[0m 89ms/step - loss: 0.0024 - mae: 0.0373 - val_loss: 0.0142 - val_mae: 0.0931\n",
      "Epoch 27/50\n",
      "\u001b[1m78/78\u001b[0m \u001b[32m━━━━━━━━━━━━━━━━━━━━\u001b[0m\u001b[37m\u001b[0m \u001b[1m7s\u001b[0m 90ms/step - loss: 0.0021 - mae: 0.0355 - val_loss: 0.0144 - val_mae: 0.0946\n",
      "Epoch 28/50\n",
      "\u001b[1m78/78\u001b[0m \u001b[32m━━━━━━━━━━━━━━━━━━━━\u001b[0m\u001b[37m\u001b[0m \u001b[1m7s\u001b[0m 89ms/step - loss: 0.0021 - mae: 0.0346 - val_loss: 0.0129 - val_mae: 0.0904\n",
      "Epoch 29/50\n",
      "\u001b[1m78/78\u001b[0m \u001b[32m━━━━━━━━━━━━━━━━━━━━\u001b[0m\u001b[37m\u001b[0m \u001b[1m7s\u001b[0m 89ms/step - loss: 0.0021 - mae: 0.0340 - val_loss: 0.0136 - val_mae: 0.0899\n",
      "Epoch 30/50\n",
      "\u001b[1m78/78\u001b[0m \u001b[32m━━━━━━━━━━━━━━━━━━━━\u001b[0m\u001b[37m\u001b[0m \u001b[1m7s\u001b[0m 90ms/step - loss: 0.0021 - mae: 0.0346 - val_loss: 0.0195 - val_mae: 0.1066\n",
      "Epoch 31/50\n",
      "\u001b[1m78/78\u001b[0m \u001b[32m━━━━━━━━━━━━━━━━━━━━\u001b[0m\u001b[37m\u001b[0m \u001b[1m7s\u001b[0m 89ms/step - loss: 0.0020 - mae: 0.0343 - val_loss: 0.0131 - val_mae: 0.0903\n",
      "Epoch 32/50\n",
      "\u001b[1m78/78\u001b[0m \u001b[32m━━━━━━━━━━━━━━━━━━━━\u001b[0m\u001b[37m\u001b[0m \u001b[1m7s\u001b[0m 87ms/step - loss: 0.0019 - mae: 0.0333 - val_loss: 0.0183 - val_mae: 0.1067\n",
      "Epoch 33/50\n",
      "\u001b[1m78/78\u001b[0m \u001b[32m━━━━━━━━━━━━━━━━━━━━\u001b[0m\u001b[37m\u001b[0m \u001b[1m7s\u001b[0m 90ms/step - loss: 0.0018 - mae: 0.0326 - val_loss: 0.0160 - val_mae: 0.1012\n",
      "Epoch 34/50\n",
      "\u001b[1m78/78\u001b[0m \u001b[32m━━━━━━━━━━━━━━━━━━━━\u001b[0m\u001b[37m\u001b[0m \u001b[1m7s\u001b[0m 89ms/step - loss: 0.0019 - mae: 0.0334 - val_loss: 0.0175 - val_mae: 0.1040\n",
      "Epoch 35/50\n",
      "\u001b[1m78/78\u001b[0m \u001b[32m━━━━━━━━━━━━━━━━━━━━\u001b[0m\u001b[37m\u001b[0m \u001b[1m7s\u001b[0m 94ms/step - loss: 0.0018 - mae: 0.0331 - val_loss: 0.0167 - val_mae: 0.1038\n",
      "Epoch 36/50\n",
      "\u001b[1m78/78\u001b[0m \u001b[32m━━━━━━━━━━━━━━━━━━━━\u001b[0m\u001b[37m\u001b[0m \u001b[1m7s\u001b[0m 95ms/step - loss: 0.0018 - mae: 0.0323 - val_loss: 0.0184 - val_mae: 0.1075\n",
      "Epoch 37/50\n",
      "\u001b[1m78/78\u001b[0m \u001b[32m━━━━━━━━━━━━━━━━━━━━\u001b[0m\u001b[37m\u001b[0m \u001b[1m7s\u001b[0m 94ms/step - loss: 0.0017 - mae: 0.0315 - val_loss: 0.0162 - val_mae: 0.0998\n",
      "Epoch 38/50\n",
      "\u001b[1m78/78\u001b[0m \u001b[32m━━━━━━━━━━━━━━━━━━━━\u001b[0m\u001b[37m\u001b[0m \u001b[1m7s\u001b[0m 93ms/step - loss: 0.0017 - mae: 0.0315 - val_loss: 0.0184 - val_mae: 0.1090\n",
      "Epoch 39/50\n",
      "\u001b[1m78/78\u001b[0m \u001b[32m━━━━━━━━━━━━━━━━━━━━\u001b[0m\u001b[37m\u001b[0m \u001b[1m7s\u001b[0m 93ms/step - loss: 0.0016 - mae: 0.0310 - val_loss: 0.0150 - val_mae: 0.0980\n",
      "Epoch 40/50\n",
      "\u001b[1m78/78\u001b[0m \u001b[32m━━━━━━━━━━━━━━━━━━━━\u001b[0m\u001b[37m\u001b[0m \u001b[1m7s\u001b[0m 92ms/step - loss: 0.0016 - mae: 0.0305 - val_loss: 0.0160 - val_mae: 0.0999\n",
      "Epoch 41/50\n",
      "\u001b[1m78/78\u001b[0m \u001b[32m━━━━━━━━━━━━━━━━━━━━\u001b[0m\u001b[37m\u001b[0m \u001b[1m7s\u001b[0m 92ms/step - loss: 0.0017 - mae: 0.0317 - val_loss: 0.0214 - val_mae: 0.1131\n",
      "Epoch 42/50\n",
      "\u001b[1m78/78\u001b[0m \u001b[32m━━━━━━━━━━━━━━━━━━━━\u001b[0m\u001b[37m\u001b[0m \u001b[1m7s\u001b[0m 93ms/step - loss: 0.0016 - mae: 0.0306 - val_loss: 0.0161 - val_mae: 0.1010\n",
      "Epoch 43/50\n",
      "\u001b[1m78/78\u001b[0m \u001b[32m━━━━━━━━━━━━━━━━━━━━\u001b[0m\u001b[37m\u001b[0m \u001b[1m7s\u001b[0m 90ms/step - loss: 0.0017 - mae: 0.0317 - val_loss: 0.0222 - val_mae: 0.1155\n",
      "Epoch 44/50\n",
      "\u001b[1m78/78\u001b[0m \u001b[32m━━━━━━━━━━━━━━━━━━━━\u001b[0m\u001b[37m\u001b[0m \u001b[1m8s\u001b[0m 97ms/step - loss: 0.0015 - mae: 0.0300 - val_loss: 0.0161 - val_mae: 0.0992\n",
      "Epoch 45/50\n",
      "\u001b[1m78/78\u001b[0m \u001b[32m━━━━━━━━━━━━━━━━━━━━\u001b[0m\u001b[37m\u001b[0m \u001b[1m7s\u001b[0m 94ms/step - loss: 0.0015 - mae: 0.0298 - val_loss: 0.0123 - val_mae: 0.0881\n",
      "Epoch 46/50\n",
      "\u001b[1m78/78\u001b[0m \u001b[32m━━━━━━━━━━━━━━━━━━━━\u001b[0m\u001b[37m\u001b[0m \u001b[1m7s\u001b[0m 94ms/step - loss: 0.0014 - mae: 0.0292 - val_loss: 0.0139 - val_mae: 0.0935\n",
      "Epoch 47/50\n",
      "\u001b[1m78/78\u001b[0m \u001b[32m━━━━━━━━━━━━━━━━━━━━\u001b[0m\u001b[37m\u001b[0m \u001b[1m7s\u001b[0m 95ms/step - loss: 0.0016 - mae: 0.0313 - val_loss: 0.0148 - val_mae: 0.0981\n",
      "Epoch 48/50\n",
      "\u001b[1m78/78\u001b[0m \u001b[32m━━━━━━━━━━━━━━━━━━━━\u001b[0m\u001b[37m\u001b[0m \u001b[1m7s\u001b[0m 93ms/step - loss: 0.0014 - mae: 0.0296 - val_loss: 0.0155 - val_mae: 0.0965\n",
      "Epoch 49/50\n",
      "\u001b[1m78/78\u001b[0m \u001b[32m━━━━━━━━━━━━━━━━━━━━\u001b[0m\u001b[37m\u001b[0m \u001b[1m7s\u001b[0m 94ms/step - loss: 0.0015 - mae: 0.0294 - val_loss: 0.0168 - val_mae: 0.1027\n",
      "Epoch 50/50\n",
      "\u001b[1m78/78\u001b[0m \u001b[32m━━━━━━━━━━━━━━━━━━━━\u001b[0m\u001b[37m\u001b[0m \u001b[1m7s\u001b[0m 93ms/step - loss: 0.0013 - mae: 0.0284 - val_loss: 0.0138 - val_mae: 0.0931\n"
     ]
    }
   ],
   "source": [
    "\n",
    "history = model.fit(X_train, Y_train, epochs=50, batch_size=32,\n",
    "                    validation_data=(X_val, Y_val))\n"
   ]
  },
  {
   "cell_type": "markdown",
   "id": "3e1fe300",
   "metadata": {},
   "source": [
    "## 7. Evaluación y Visualización"
   ]
  },
  {
   "cell_type": "code",
   "execution_count": 7,
   "id": "30bba89c",
   "metadata": {},
   "outputs": [
    {
     "name": "stdout",
     "output_type": "stream",
     "text": [
      "\u001b[1m17/17\u001b[0m \u001b[32m━━━━━━━━━━━━━━━━━━━━\u001b[0m\u001b[37m\u001b[0m \u001b[1m1s\u001b[0m 61ms/step\n"
     ]
    },
    {
     "data": {
      "image/png": "[encoded data removed]",
      "text/plain": [
       "<Figure size 640x480 with 1 Axes>"
      ]
     },
     "metadata": {},
     "output_type": "display_data"
    }
   ],
   "source": [
    "\n",
    "import matplotlib.pyplot as plt\n",
    "\n",
    "preds = model.predict(X_test)\n",
    "plt.plot(Y_test.flatten(), label='Real')\n",
    "plt.plot(preds.flatten(), label='Predicción')\n",
    "plt.legend()\n",
    "plt.title('Predicción del Precio del Oro (Test)')\n",
    "plt.show()\n"
   ]
  },
  {
   "cell_type": "markdown",
   "id": "e28c2e38",
   "metadata": {},
   "source": [
    "## 8. Interpretabilidad con SHAP (Opcional)"
   ]
  },
  {
   "cell_type": "code",
   "execution_count": 9,
   "id": "8651b749",
   "metadata": {},
   "outputs": [
    {
     "name": "stderr",
     "output_type": "stream",
     "text": [
      "c:\\Users\\Alumno_AI\\carlos\\practicas\\recurrentes\\.venv\\Lib\\site-packages\\keras\\src\\models\\functional.py:238: UserWarning: The structure of `inputs` doesn't match the expected structure.\n",
      "Expected: keras_tensor\n",
      "Received: inputs=['Tensor(shape=(10, 90, 10))']\n",
      "  warnings.warn(msg)\n",
      "c:\\Users\\Alumno_AI\\carlos\\practicas\\recurrentes\\.venv\\Lib\\site-packages\\keras\\src\\models\\functional.py:238: UserWarning: The structure of `inputs` doesn't match the expected structure.\n",
      "Expected: keras_tensor\n",
      "Received: inputs=['Tensor(shape=(50, 90, 10))']\n",
      "  warnings.warn(msg)\n"
     ]
    },
    {
     "ename": "StagingError",
     "evalue": "in user code:\n\n    File \"c:\\Users\\Alumno_AI\\carlos\\practicas\\recurrentes\\.venv\\Lib\\site-packages\\shap\\explainers\\_gradient.py\", line 265, in grad_graph  *\n        x_grad = tape.gradient(out, x)\n\n    LookupError: gradient registry has no entry for: shap_StridedSlice\n",
     "output_type": "error",
     "traceback": [
      "\u001b[31m---------------------------------------------------------------------------\u001b[39m",
      "\u001b[31mStagingError\u001b[39m                              Traceback (most recent call last)",
      "\u001b[36mCell\u001b[39m\u001b[36m \u001b[39m\u001b[32mIn[9]\u001b[39m\u001b[32m, line 3\u001b[39m\n\u001b[32m      1\u001b[39m \u001b[38;5;28;01mimport\u001b[39;00m\u001b[38;5;250m \u001b[39m\u001b[34;01mshap\u001b[39;00m\n\u001b[32m      2\u001b[39m explainer = shap.GradientExplainer(model, X_train[:\u001b[32m100\u001b[39m])\n\u001b[32m----> \u001b[39m\u001b[32m3\u001b[39m shap_values = \u001b[43mexplainer\u001b[49m\u001b[43m.\u001b[49m\u001b[43mshap_values\u001b[49m\u001b[43m(\u001b[49m\u001b[43mX_test\u001b[49m\u001b[43m[\u001b[49m\u001b[43m:\u001b[49m\u001b[32;43m10\u001b[39;49m\u001b[43m]\u001b[49m\u001b[43m)\u001b[49m\n\u001b[32m      4\u001b[39m shap.summary_plot(shap_values, X_test[:\u001b[32m10\u001b[39m])\n",
      "\u001b[36mFile \u001b[39m\u001b[32mc:\\Users\\Alumno_AI\\carlos\\practicas\\recurrentes\\.venv\\Lib\\site-packages\\shap\\explainers\\_gradient.py:160\u001b[39m, in \u001b[36mGradientExplainer.shap_values\u001b[39m\u001b[34m(self, X, nsamples, ranked_outputs, output_rank_order, rseed, return_variances)\u001b[39m\n\u001b[32m    108\u001b[39m \u001b[38;5;28;01mdef\u001b[39;00m\u001b[38;5;250m \u001b[39m\u001b[34mshap_values\u001b[39m(\n\u001b[32m    109\u001b[39m     \u001b[38;5;28mself\u001b[39m, X, nsamples=\u001b[32m200\u001b[39m, ranked_outputs=\u001b[38;5;28;01mNone\u001b[39;00m, output_rank_order=\u001b[33m\"\u001b[39m\u001b[33mmax\u001b[39m\u001b[33m\"\u001b[39m, rseed=\u001b[38;5;28;01mNone\u001b[39;00m, return_variances=\u001b[38;5;28;01mFalse\u001b[39;00m\n\u001b[32m    110\u001b[39m ):\n\u001b[32m    111\u001b[39m \u001b[38;5;250m    \u001b[39m\u001b[33;03m\"\"\"Return the values for the model applied to X.\u001b[39;00m\n\u001b[32m    112\u001b[39m \n\u001b[32m    113\u001b[39m \u001b[33;03m    Parameters\u001b[39;00m\n\u001b[32m   (...)\u001b[39m\u001b[32m    158\u001b[39m \n\u001b[32m    159\u001b[39m \u001b[33;03m    \"\"\"\u001b[39;00m\n\u001b[32m--> \u001b[39m\u001b[32m160\u001b[39m     \u001b[38;5;28;01mreturn\u001b[39;00m \u001b[38;5;28;43mself\u001b[39;49m\u001b[43m.\u001b[49m\u001b[43mexplainer\u001b[49m\u001b[43m.\u001b[49m\u001b[43mshap_values\u001b[49m\u001b[43m(\u001b[49m\u001b[43mX\u001b[49m\u001b[43m,\u001b[49m\u001b[43m \u001b[49m\u001b[43mnsamples\u001b[49m\u001b[43m,\u001b[49m\u001b[43m \u001b[49m\u001b[43mranked_outputs\u001b[49m\u001b[43m,\u001b[49m\u001b[43m \u001b[49m\u001b[43moutput_rank_order\u001b[49m\u001b[43m,\u001b[49m\u001b[43m \u001b[49m\u001b[43mrseed\u001b[49m\u001b[43m,\u001b[49m\u001b[43m \u001b[49m\u001b[43mreturn_variances\u001b[49m\u001b[43m)\u001b[49m\n",
      "\u001b[36mFile \u001b[39m\u001b[32mc:\\Users\\Alumno_AI\\carlos\\practicas\\recurrentes\\.venv\\Lib\\site-packages\\shap\\explainers\\_gradient.py:345\u001b[39m, in \u001b[36m_TFGradient.shap_values\u001b[39m\u001b[34m(self, X, nsamples, ranked_outputs, output_rank_order, rseed, return_variances)\u001b[39m\n\u001b[32m    343\u001b[39m \u001b[38;5;28;01mfor\u001b[39;00m b \u001b[38;5;129;01min\u001b[39;00m \u001b[38;5;28mrange\u001b[39m(\u001b[32m0\u001b[39m, nsamples, \u001b[38;5;28mself\u001b[39m.batch_size):\n\u001b[32m    344\u001b[39m     batch = [samples_input[a][b : \u001b[38;5;28mmin\u001b[39m(b + \u001b[38;5;28mself\u001b[39m.batch_size, nsamples)] \u001b[38;5;28;01mfor\u001b[39;00m a \u001b[38;5;129;01min\u001b[39;00m \u001b[38;5;28mrange\u001b[39m(\u001b[38;5;28mlen\u001b[39m(X))]\n\u001b[32m--> \u001b[39m\u001b[32m345\u001b[39m     grads.append(\u001b[38;5;28;43mself\u001b[39;49m\u001b[43m.\u001b[49m\u001b[43mrun\u001b[49m\u001b[43m(\u001b[49m\u001b[38;5;28;43mself\u001b[39;49m\u001b[43m.\u001b[49m\u001b[43mgradient\u001b[49m\u001b[43m(\u001b[49m\u001b[43mfind\u001b[49m\u001b[43m)\u001b[49m\u001b[43m,\u001b[49m\u001b[43m \u001b[49m\u001b[38;5;28;43mself\u001b[39;49m\u001b[43m.\u001b[49m\u001b[43mmodel_inputs\u001b[49m\u001b[43m,\u001b[49m\u001b[43m \u001b[49m\u001b[43mbatch\u001b[49m\u001b[43m)\u001b[49m)\n\u001b[32m    346\u001b[39m grad = [np.concatenate([g[a] \u001b[38;5;28;01mfor\u001b[39;00m g \u001b[38;5;129;01min\u001b[39;00m grads], \u001b[32m0\u001b[39m) \u001b[38;5;28;01mfor\u001b[39;00m a \u001b[38;5;129;01min\u001b[39;00m \u001b[38;5;28mrange\u001b[39m(\u001b[38;5;28mlen\u001b[39m(X))]\n\u001b[32m    348\u001b[39m \u001b[38;5;66;03m# assign the attributions to the right part of the output arrays\u001b[39;00m\n",
      "\u001b[36mFile \u001b[39m\u001b[32mc:\\Users\\Alumno_AI\\carlos\\practicas\\recurrentes\\.venv\\Lib\\site-packages\\shap\\explainers\\_gradient.py:417\u001b[39m, in \u001b[36m_TFGradient.run\u001b[39m\u001b[34m(self, out, model_inputs, X)\u001b[39m\n\u001b[32m    415\u001b[39m     v = tf.constant(X[i].reshape(shape), dtype=\u001b[38;5;28mself\u001b[39m.model_inputs[i].dtype)\n\u001b[32m    416\u001b[39m     inputs.append(v)\n\u001b[32m--> \u001b[39m\u001b[32m417\u001b[39m \u001b[38;5;28;01mreturn\u001b[39;00m \u001b[43mout\u001b[49m\u001b[43m(\u001b[49m\u001b[43minputs\u001b[49m\u001b[43m)\u001b[49m\n",
      "\u001b[36mFile \u001b[39m\u001b[32mc:\\Users\\Alumno_AI\\carlos\\practicas\\recurrentes\\.venv\\Lib\\site-packages\\tensorflow\\python\\util\\traceback_utils.py:153\u001b[39m, in \u001b[36mfilter_traceback.<locals>.error_handler\u001b[39m\u001b[34m(*args, **kwargs)\u001b[39m\n\u001b[32m    151\u001b[39m \u001b[38;5;28;01mexcept\u001b[39;00m \u001b[38;5;167;01mException\u001b[39;00m \u001b[38;5;28;01mas\u001b[39;00m e:\n\u001b[32m    152\u001b[39m   filtered_tb = _process_traceback_frames(e.__traceback__)\n\u001b[32m--> \u001b[39m\u001b[32m153\u001b[39m   \u001b[38;5;28;01mraise\u001b[39;00m e.with_traceback(filtered_tb) \u001b[38;5;28;01mfrom\u001b[39;00m\u001b[38;5;250m \u001b[39m\u001b[38;5;28;01mNone\u001b[39;00m\n\u001b[32m    154\u001b[39m \u001b[38;5;28;01mfinally\u001b[39;00m:\n\u001b[32m    155\u001b[39m   \u001b[38;5;28;01mdel\u001b[39;00m filtered_tb\n",
      "\u001b[36mFile \u001b[39m\u001b[32mc:\\Users\\Alumno_AI\\carlos\\practicas\\recurrentes\\.venv\\Lib\\site-packages\\tensorflow\\python\\eager\\polymorphic_function\\autograph_util.py:52\u001b[39m, in \u001b[36mpy_func_from_autograph.<locals>.autograph_handler\u001b[39m\u001b[34m(*args, **kwargs)\u001b[39m\n\u001b[32m     50\u001b[39m \u001b[38;5;28;01mexcept\u001b[39;00m \u001b[38;5;167;01mException\u001b[39;00m \u001b[38;5;28;01mas\u001b[39;00m e:  \u001b[38;5;66;03m# pylint:disable=broad-except\u001b[39;00m\n\u001b[32m     51\u001b[39m   \u001b[38;5;28;01mif\u001b[39;00m \u001b[38;5;28mhasattr\u001b[39m(e, \u001b[33m\"\u001b[39m\u001b[33mag_error_metadata\u001b[39m\u001b[33m\"\u001b[39m):\n\u001b[32m---> \u001b[39m\u001b[32m52\u001b[39m     \u001b[38;5;28;01mraise\u001b[39;00m e.ag_error_metadata.to_exception(e)\n\u001b[32m     53\u001b[39m   \u001b[38;5;28;01melse\u001b[39;00m:\n\u001b[32m     54\u001b[39m     \u001b[38;5;28;01mraise\u001b[39;00m\n",
      "\u001b[31mStagingError\u001b[39m: in user code:\n\n    File \"c:\\Users\\Alumno_AI\\carlos\\practicas\\recurrentes\\.venv\\Lib\\site-packages\\shap\\explainers\\_gradient.py\", line 265, in grad_graph  *\n        x_grad = tape.gradient(out, x)\n\n    LookupError: gradient registry has no entry for: shap_StridedSlice\n"
     ]
    }
   ],
   "source": [
    "import shap\n",
    "explainer = shap.GradientExplainer(model, X_train[:100])\n",
    "shap_values = explainer.shap_values(X_test[:10])\n",
    "shap.summary_plot(shap_values, X_test[:10])\n"
   ]
  },
  {
   "cell_type": "markdown",
   "id": "223f13ce",
   "metadata": {},
   "source": [
    "## 9. Guardar el Modelo"
   ]
  },
  {
   "cell_type": "code",
   "execution_count": null,
   "id": "38b5d5d6",
   "metadata": {},
   "outputs": [],
   "source": [
    "\n",
    "model.save('modelo_oro_lstm.h5')\n",
    "import joblib\n",
    "joblib.dump(scaler, 'scaler_robust.pkl')\n"
   ]
  }
 ],
 "metadata": {
  "kernelspec": {
   "display_name": ".venv",
   "language": "python",
   "name": "python3"
  },
  "language_info": {
   "codemirror_mode": {
    "name": "ipython",
    "version": 3
   },
   "file_extension": ".py",
   "mimetype": "text/x-python",
   "name": "python",
   "nbconvert_exporter": "python",
   "pygments_lexer": "ipython3",
   "version": "3.12.4"
  }
 },
 "nbformat": 4,
 "nbformat_minor": 5
}
