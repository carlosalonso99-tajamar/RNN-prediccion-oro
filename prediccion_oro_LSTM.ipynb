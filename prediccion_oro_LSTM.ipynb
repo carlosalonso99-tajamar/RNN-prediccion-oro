{
 "cells": [
  {
   "cell_type": "markdown",
   "id": "2a117292",
   "metadata": {},
   "source": [
    "# Caso de Estudio: Predicción del Precio del Oro con Redes LSTM"
   ]
  },
  {
   "cell_type": "markdown",
   "id": "320f6244",
   "metadata": {},
   "source": [
    "## 1. Descubrimiento del Caso de Negocio\n",
    "Contexto del proyecto: Commodity Analytics busca predecir el precio del oro (XAU/USD) utilizando datos históricos y variables macroeconómicas para optimizar decisiones de inversión."
   ]
  },
  {
   "cell_type": "code",
   "execution_count": null,
   "id": "4eb09799",
   "metadata": {},
   "outputs": [],
   "source": [
    "# Instalación y carga de librerías necesarias\n",
    "!pip install yfinance tensorflow keras sklearn matplotlib seaborn shap keract pandas numpy"
   ]
  },
  {
   "cell_type": "markdown",
   "id": "a7fffaac",
   "metadata": {},
   "source": [
    "## 2. Procesamiento de Datos"
   ]
  },
  {
   "cell_type": "code",
   "execution_count": null,
   "id": "d9ca44f4",
   "metadata": {},
   "outputs": [],
   "source": [
    "\n",
    "import yfinance as yf\n",
    "import pandas as pd\n",
    "import numpy as np\n",
    "\n",
    "# Descargar datos históricos desde Yahoo Finance\n",
    "oro = yf.download(\"GC=F\", start=\"2010-01-01\")\n",
    "dxy = yf.download(\"DX-Y.NYB\", start=\"2010-01-01\")\n",
    "bonos = yf.download(\"^TNX\", start=\"2010-01-01\")\n",
    "tip = yf.download(\"TIP\", start=\"2010-01-01\")\n",
    "\n",
    "# Unión de datasets\n",
    "df = pd.concat([oro['Close'], dxy['Close'], bonos['Close'], tip['Close']], axis=1).dropna()\n",
    "df.columns = ['Oro', 'DXY', 'Bonos', 'TIP']\n",
    "\n",
    "# Características derivadas\n",
    "df['Ratio_Oro_DXY'] = df['Oro'] / df['DXY']\n",
    "df['Inflacion_implicita'] = df['TIP'].pct_change()\n",
    "df['Tasa_real'] = df['Bonos'] - df['Inflacion_implicita']\n",
    "\n",
    "# Variables técnicas\n",
    "df['SMA200'] = df['Oro'].rolling(window=200).mean()\n",
    "df['Bollinger_up'] = df['Oro'].rolling(window=20).mean() + 2*df['Oro'].rolling(window=20).std()\n",
    "df['Bollinger_down'] = df['Oro'].rolling(window=20).mean() - 2*df['Oro'].rolling(window=20).std()\n",
    "\n",
    "df = df.dropna()\n",
    "df.head()\n"
   ]
  },
  {
   "cell_type": "markdown",
   "id": "f6969819",
   "metadata": {},
   "source": [
    "## 3. Preparación de secuencias para LSTM"
   ]
  },
  {
   "cell_type": "code",
   "execution_count": null,
   "id": "b7db5071",
   "metadata": {},
   "outputs": [],
   "source": [
    "\n",
    "from sklearn.preprocessing import RobustScaler\n",
    "from keras.preprocessing.sequence import TimeseriesGenerator\n",
    "\n",
    "scaler = RobustScaler()\n",
    "data_scaled = scaler.fit_transform(df)\n",
    "\n",
    "look_back = 90\n",
    "horizon = 5\n",
    "\n",
    "X, Y = [], []\n",
    "for i in range(len(data_scaled)-look_back-horizon):\n",
    "    X.append(data_scaled[i:i+look_back])\n",
    "    Y.append(data_scaled[i+look_back:i+look_back+horizon, 0])  # solo precio del oro\n",
    "\n",
    "X, Y = np.array(X), np.array(Y)\n",
    "X.shape, Y.shape\n"
   ]
  },
  {
   "cell_type": "markdown",
   "id": "abe8071e",
   "metadata": {},
   "source": [
    "## 4. División de los Datos en Train/Test"
   ]
  },
  {
   "cell_type": "code",
   "execution_count": null,
   "id": "ed25961a",
   "metadata": {},
   "outputs": [],
   "source": [
    "\n",
    "split_train = int(len(X) * 0.7)\n",
    "split_val = int(len(X) * 0.85)\n",
    "\n",
    "X_train, Y_train = X[:split_train], Y[:split_train]\n",
    "X_val, Y_val = X[split_train:split_val], Y[split_train:split_val]\n",
    "X_test, Y_test = X[split_val:], Y[split_val:]\n"
   ]
  },
  {
   "cell_type": "markdown",
   "id": "4f976638",
   "metadata": {},
   "source": [
    "## 5. Modelo LSTM"
   ]
  },
  {
   "cell_type": "code",
   "execution_count": null,
   "id": "ab05192c",
   "metadata": {},
   "outputs": [],
   "source": [
    "\n",
    "from keras.models import Sequential\n",
    "from keras.layers import LSTM, Dense, Dropout\n",
    "\n",
    "model = Sequential([\n",
    "    LSTM(192, return_sequences=True, input_shape=(look_back, X.shape[2])),\n",
    "    Dropout(0.35),\n",
    "    LSTM(96),\n",
    "    Dense(horizon)\n",
    "])\n",
    "\n",
    "model.compile(optimizer='adam', loss='mse', metrics=['mae'])\n",
    "model.summary()\n"
   ]
  },
  {
   "cell_type": "markdown",
   "id": "d6ecb38d",
   "metadata": {},
   "source": [
    "## 6. Entrenamiento del Modelo"
   ]
  },
  {
   "cell_type": "code",
   "execution_count": null,
   "id": "ca676e99",
   "metadata": {},
   "outputs": [],
   "source": [
    "\n",
    "history = model.fit(X_train, Y_train, epochs=50, batch_size=32,\n",
    "                    validation_data=(X_val, Y_val))\n"
   ]
  },
  {
   "cell_type": "markdown",
   "id": "3e1fe300",
   "metadata": {},
   "source": [
    "## 7. Evaluación y Visualización"
   ]
  },
  {
   "cell_type": "code",
   "execution_count": null,
   "id": "30bba89c",
   "metadata": {},
   "outputs": [],
   "source": [
    "\n",
    "import matplotlib.pyplot as plt\n",
    "\n",
    "preds = model.predict(X_test)\n",
    "plt.plot(Y_test.flatten(), label='Real')\n",
    "plt.plot(preds.flatten(), label='Predicción')\n",
    "plt.legend()\n",
    "plt.title('Predicción del Precio del Oro (Test)')\n",
    "plt.show()\n"
   ]
  },
  {
   "cell_type": "markdown",
   "id": "e28c2e38",
   "metadata": {},
   "source": [
    "## 8. Interpretabilidad con SHAP (Opcional)"
   ]
  },
  {
   "cell_type": "code",
   "execution_count": null,
   "id": "8651b749",
   "metadata": {},
   "outputs": [],
   "source": [
    "\n",
    "import shap\n",
    "\n",
    "explainer = shap.DeepExplainer(model, X_train[:100])\n",
    "shap_values = explainer.shap_values(X_test[:10])\n",
    "\n",
    "shap.summary_plot(shap_values, features=X_test[:10], feature_names=df.columns)\n"
   ]
  },
  {
   "cell_type": "markdown",
   "id": "223f13ce",
   "metadata": {},
   "source": [
    "## 9. Guardar el Modelo"
   ]
  },
  {
   "cell_type": "code",
   "execution_count": null,
   "id": "38b5d5d6",
   "metadata": {},
   "outputs": [],
   "source": [
    "\n",
    "model.save('modelo_oro_lstm.h5')\n",
    "import joblib\n",
    "joblib.dump(scaler, 'scaler_robust.pkl')\n"
   ]
  }
 ],
 "metadata": {},
 "nbformat": 4,
 "nbformat_minor": 5
}
